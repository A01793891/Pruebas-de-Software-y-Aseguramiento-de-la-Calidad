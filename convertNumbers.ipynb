{
 "cells": [
  {
   "cell_type": "code",
   "execution_count": 2,
   "id": "854938a6-64e2-49ea-b4e6-d5671cc3f23c",
   "metadata": {},
   "outputs": [],
   "source": [
    "import numpy as np\n",
    "import pandas as pd"
   ]
  },
  {
   "cell_type": "code",
   "execution_count": 3,
   "id": "2dda7911-68ee-40f1-a400-37e3b0504e45",
   "metadata": {
    "tags": []
   },
   "outputs": [],
   "source": [
    "TX=pd.read_csv('/Users/andrei/Documents/Maestria_MNA/Trimestre_6/Pruebas_de_Software/Semana4/Ejercicio_Programacion1/P2/TC1.txt')"
   ]
  },
  {
   "cell_type": "code",
   "execution_count": 4,
   "id": "a7a56cde-051b-4444-8cfd-08d38a126ca1",
   "metadata": {
    "tags": []
   },
   "outputs": [],
   "source": [
    "TC2=pd.read_csv('/Users/andrei/Documents/Maestria_MNA/Trimestre_6/Pruebas_de_Software/Semana4/Ejercicio_Programacion1/P2/TC2.txt')"
   ]
  },
  {
   "cell_type": "code",
   "execution_count": 5,
   "id": "7f35a958-41dd-4061-826f-fc465a6666be",
   "metadata": {},
   "outputs": [],
   "source": [
    "TC3=pd.read_csv('/Users/andrei/Documents/Maestria_MNA/Trimestre_6/Pruebas_de_Software/Semana4/Ejercicio_Programacion1/P2/TC3.txt')"
   ]
  },
  {
   "cell_type": "code",
   "execution_count": 6,
   "id": "9276ce49-722a-4cde-8af0-9d484d1babb5",
   "metadata": {},
   "outputs": [],
   "source": [
    "TC4=pd.read_csv('/Users/andrei/Documents/Maestria_MNA/Trimestre_6/Pruebas_de_Software/Semana4/Ejercicio_Programacion1/P2/TC4.txt')"
   ]
  },
  {
   "cell_type": "code",
   "execution_count": 7,
   "id": "a691fe1e-4c15-42cb-a25c-5add065bc1e1",
   "metadata": {},
   "outputs": [],
   "source": [
    "TX.columns = ['TC1']\n",
    "TC2.columns = ['TC2']\n",
    "TC3.columns = ['TC3']\n",
    "TC4.columns = ['TC4']"
   ]
  },
  {
   "cell_type": "code",
   "execution_count": 8,
   "id": "d65782ca-ef6d-4584-8629-6832a27b9e18",
   "metadata": {},
   "outputs": [
    {
     "data": {
      "text/html": [
       "<div>\n",
       "<style scoped>\n",
       "    .dataframe tbody tr th:only-of-type {\n",
       "        vertical-align: middle;\n",
       "    }\n",
       "\n",
       "    .dataframe tbody tr th {\n",
       "        vertical-align: top;\n",
       "    }\n",
       "\n",
       "    .dataframe thead th {\n",
       "        text-align: right;\n",
       "    }\n",
       "</style>\n",
       "<table border=\"1\" class=\"dataframe\">\n",
       "  <thead>\n",
       "    <tr style=\"text-align: right;\">\n",
       "      <th></th>\n",
       "      <th>TC1</th>\n",
       "    </tr>\n",
       "  </thead>\n",
       "  <tbody>\n",
       "    <tr>\n",
       "      <th>0</th>\n",
       "      <td>5517055</td>\n",
       "    </tr>\n",
       "    <tr>\n",
       "      <th>1</th>\n",
       "      <td>1336159</td>\n",
       "    </tr>\n",
       "    <tr>\n",
       "      <th>2</th>\n",
       "      <td>6750185</td>\n",
       "    </tr>\n",
       "    <tr>\n",
       "      <th>3</th>\n",
       "      <td>1771937</td>\n",
       "    </tr>\n",
       "    <tr>\n",
       "      <th>4</th>\n",
       "      <td>360952</td>\n",
       "    </tr>\n",
       "    <tr>\n",
       "      <th>...</th>\n",
       "      <td>...</td>\n",
       "    </tr>\n",
       "    <tr>\n",
       "      <th>194</th>\n",
       "      <td>4555717</td>\n",
       "    </tr>\n",
       "    <tr>\n",
       "      <th>195</th>\n",
       "      <td>3526753</td>\n",
       "    </tr>\n",
       "    <tr>\n",
       "      <th>196</th>\n",
       "      <td>3176815</td>\n",
       "    </tr>\n",
       "    <tr>\n",
       "      <th>197</th>\n",
       "      <td>858440</td>\n",
       "    </tr>\n",
       "    <tr>\n",
       "      <th>198</th>\n",
       "      <td>2250854</td>\n",
       "    </tr>\n",
       "  </tbody>\n",
       "</table>\n",
       "<p>199 rows × 1 columns</p>\n",
       "</div>"
      ],
      "text/plain": [
       "         TC1\n",
       "0    5517055\n",
       "1    1336159\n",
       "2    6750185\n",
       "3    1771937\n",
       "4     360952\n",
       "..       ...\n",
       "194  4555717\n",
       "195  3526753\n",
       "196  3176815\n",
       "197   858440\n",
       "198  2250854\n",
       "\n",
       "[199 rows x 1 columns]"
      ]
     },
     "execution_count": 8,
     "metadata": {},
     "output_type": "execute_result"
    }
   ],
   "source": [
    "TX"
   ]
  },
  {
   "cell_type": "code",
   "execution_count": 9,
   "id": "9671297c-9926-4689-8ba0-bd1ae1527c73",
   "metadata": {},
   "outputs": [],
   "source": [
    "TX.loc[0] = [\"6980368\"]\n",
    "TC2.loc[0] = [\"7116776\"]\n",
    "TC3.loc[0] = [\"-39\"]\n",
    "TC4.loc[0] = [\"-39\"]"
   ]
  },
  {
   "cell_type": "code",
   "execution_count": 10,
   "id": "32f4e4c7-18de-4bb5-b602-118bcf55332b",
   "metadata": {},
   "outputs": [
    {
     "data": {
      "text/plain": [
       "(0      6980368\n",
       " 1      1336159\n",
       " 2      6750185\n",
       " 3      1771937\n",
       " 4       360952\n",
       "         ...   \n",
       " 194    4555717\n",
       " 195    3526753\n",
       " 196    3176815\n",
       " 197     858440\n",
       " 198    2250854\n",
       " Name: TC1, Length: 199, dtype: object,\n",
       " 0      7116776\n",
       " 1      8886983\n",
       " 2       839365\n",
       " 3       924280\n",
       " 4      1026310\n",
       "         ...   \n",
       " 194    6735760\n",
       " 195    8895858\n",
       " 196    4238091\n",
       " 197    7093069\n",
       " 198         39\n",
       " Name: TC2, Length: 199, dtype: object,\n",
       " 0      -39\n",
       " 1        8\n",
       " 2       34\n",
       " 3       17\n",
       " 4       49\n",
       "       ... \n",
       " 194    -25\n",
       " 195    -33\n",
       " 196     16\n",
       " 197     17\n",
       " 198      4\n",
       " Name: TC3, Length: 199, dtype: object,\n",
       " 0     -39\n",
       " 1       8\n",
       " 2      34\n",
       " 3      17\n",
       " 4      49\n",
       " 5       5\n",
       " 6     ABC\n",
       " 7       0\n",
       " 8      33\n",
       " 9      12\n",
       " 10     -6\n",
       " 11     27\n",
       " 12     -4\n",
       " 13    -38\n",
       " 14     26\n",
       " 15     49\n",
       " 16     29\n",
       " 17     42\n",
       " 18    -16\n",
       " 19    ERR\n",
       " 20     34\n",
       " 21     20\n",
       " 22      0\n",
       " 23     25\n",
       " 24     45\n",
       " 25      3\n",
       " 26    -46\n",
       " 27    -46\n",
       " 28     29\n",
       " 29     33\n",
       " 30     29\n",
       " 31     26\n",
       " 32     -5\n",
       " 33    -36\n",
       " 34     12\n",
       " 35     45\n",
       " 36    -50\n",
       " 37      0\n",
       " 38     -6\n",
       " 39    VAL\n",
       " Name: TC4, dtype: object)"
      ]
     },
     "execution_count": 10,
     "metadata": {},
     "output_type": "execute_result"
    }
   ],
   "source": [
    "TX['TC1'], TC2['TC2'], TC3['TC3'], TC4['TC4']"
   ]
  },
  {
   "cell_type": "code",
   "execution_count": 11,
   "id": "d77f5098-55f3-4c87-bb35-8f8da51545a3",
   "metadata": {},
   "outputs": [],
   "source": [
    "TC1Hex = TX['TC1']\n",
    "TC2Hex = TC2['TC2']\n",
    "TC3Hex = TC3['TC3']\n",
    "TC4Hex = TC4['TC4']"
   ]
  },
  {
   "cell_type": "code",
   "execution_count": 12,
   "id": "b8a0b969-6078-48fa-96d5-4f9a4f9357cf",
   "metadata": {},
   "outputs": [],
   "source": [
    "def binary(n):\n",
    "    s = bin(n & int(\"1\"*24, 2))[2:]\n",
    "    return (\"{0:0>%s}\" % (24)).format(s)"
   ]
  },
  {
   "cell_type": "code",
   "execution_count": 13,
   "id": "c8f54539-fe02-450c-bb02-832b7dd6f319",
   "metadata": {},
   "outputs": [],
   "source": [
    "TX = TX.dropna()"
   ]
  },
  {
   "cell_type": "code",
   "execution_count": 14,
   "id": "13d1f1f4-da02-4e04-b363-e598e27a46e4",
   "metadata": {},
   "outputs": [
    {
     "data": {
      "text/html": [
       "<div>\n",
       "<style scoped>\n",
       "    .dataframe tbody tr th:only-of-type {\n",
       "        vertical-align: middle;\n",
       "    }\n",
       "\n",
       "    .dataframe tbody tr th {\n",
       "        vertical-align: top;\n",
       "    }\n",
       "\n",
       "    .dataframe thead th {\n",
       "        text-align: right;\n",
       "    }\n",
       "</style>\n",
       "<table border=\"1\" class=\"dataframe\">\n",
       "  <thead>\n",
       "    <tr style=\"text-align: right;\">\n",
       "      <th></th>\n",
       "      <th>TC1</th>\n",
       "    </tr>\n",
       "  </thead>\n",
       "  <tbody>\n",
       "    <tr>\n",
       "      <th>0</th>\n",
       "      <td>011010101000001100010000</td>\n",
       "    </tr>\n",
       "    <tr>\n",
       "      <th>1</th>\n",
       "      <td>000101000110001101011111</td>\n",
       "    </tr>\n",
       "    <tr>\n",
       "      <th>2</th>\n",
       "      <td>011001101111111111101001</td>\n",
       "    </tr>\n",
       "    <tr>\n",
       "      <th>3</th>\n",
       "      <td>000110110000100110100001</td>\n",
       "    </tr>\n",
       "    <tr>\n",
       "      <th>4</th>\n",
       "      <td>000001011000000111111000</td>\n",
       "    </tr>\n",
       "    <tr>\n",
       "      <th>...</th>\n",
       "      <td>...</td>\n",
       "    </tr>\n",
       "    <tr>\n",
       "      <th>194</th>\n",
       "      <td>010001011000001111000101</td>\n",
       "    </tr>\n",
       "    <tr>\n",
       "      <th>195</th>\n",
       "      <td>001101011101000001100001</td>\n",
       "    </tr>\n",
       "    <tr>\n",
       "      <th>196</th>\n",
       "      <td>001100000111100101101111</td>\n",
       "    </tr>\n",
       "    <tr>\n",
       "      <th>197</th>\n",
       "      <td>000011010001100101001000</td>\n",
       "    </tr>\n",
       "    <tr>\n",
       "      <th>198</th>\n",
       "      <td>001000100101100001100110</td>\n",
       "    </tr>\n",
       "  </tbody>\n",
       "</table>\n",
       "<p>199 rows × 1 columns</p>\n",
       "</div>"
      ],
      "text/plain": [
       "                          TC1\n",
       "0    011010101000001100010000\n",
       "1    000101000110001101011111\n",
       "2    011001101111111111101001\n",
       "3    000110110000100110100001\n",
       "4    000001011000000111111000\n",
       "..                        ...\n",
       "194  010001011000001111000101\n",
       "195  001101011101000001100001\n",
       "196  001100000111100101101111\n",
       "197  000011010001100101001000\n",
       "198  001000100101100001100110\n",
       "\n",
       "[199 rows x 1 columns]"
      ]
     },
     "execution_count": 14,
     "metadata": {},
     "output_type": "execute_result"
    }
   ],
   "source": [
    "TX['TC1'] = TX['TC1'].astype(int)\n",
    "TX['TC1'].dtype\n",
    "TX['TC1'] = TX.apply(lambda x: binary(x[0]), axis=1)\n",
    "TX"
   ]
  },
  {
   "cell_type": "code",
   "execution_count": 15,
   "id": "c5d41c55-08f8-4c1f-ab05-c11b5e2e6b27",
   "metadata": {},
   "outputs": [],
   "source": [
    "TC2['TC2'] = TC2['TC2'].astype(int)"
   ]
  },
  {
   "cell_type": "code",
   "execution_count": 16,
   "id": "3a0bba1f-255d-46f3-a869-0cbebb44df31",
   "metadata": {},
   "outputs": [
    {
     "data": {
      "text/plain": [
       "dtype('int64')"
      ]
     },
     "execution_count": 16,
     "metadata": {},
     "output_type": "execute_result"
    }
   ],
   "source": [
    "TC2['TC2'].dtype"
   ]
  },
  {
   "cell_type": "code",
   "execution_count": 17,
   "id": "04959e60-74af-44aa-81ce-580f852944df",
   "metadata": {},
   "outputs": [],
   "source": [
    "TC2['TC2']= TC2.apply(lambda x: binary(x[0]), axis=1)"
   ]
  },
  {
   "cell_type": "code",
   "execution_count": 18,
   "id": "0268cca0-37fb-4c4b-84db-d1dfe6410970",
   "metadata": {},
   "outputs": [
    {
     "data": {
      "text/html": [
       "<div>\n",
       "<style scoped>\n",
       "    .dataframe tbody tr th:only-of-type {\n",
       "        vertical-align: middle;\n",
       "    }\n",
       "\n",
       "    .dataframe tbody tr th {\n",
       "        vertical-align: top;\n",
       "    }\n",
       "\n",
       "    .dataframe thead th {\n",
       "        text-align: right;\n",
       "    }\n",
       "</style>\n",
       "<table border=\"1\" class=\"dataframe\">\n",
       "  <thead>\n",
       "    <tr style=\"text-align: right;\">\n",
       "      <th></th>\n",
       "      <th>TC2</th>\n",
       "    </tr>\n",
       "  </thead>\n",
       "  <tbody>\n",
       "    <tr>\n",
       "      <th>0</th>\n",
       "      <td>011011001001011111101000</td>\n",
       "    </tr>\n",
       "    <tr>\n",
       "      <th>1</th>\n",
       "      <td>100001111001101011000111</td>\n",
       "    </tr>\n",
       "    <tr>\n",
       "      <th>2</th>\n",
       "      <td>000011001100111011000101</td>\n",
       "    </tr>\n",
       "    <tr>\n",
       "      <th>3</th>\n",
       "      <td>000011100001101001111000</td>\n",
       "    </tr>\n",
       "    <tr>\n",
       "      <th>4</th>\n",
       "      <td>000011111010100100000110</td>\n",
       "    </tr>\n",
       "    <tr>\n",
       "      <th>...</th>\n",
       "      <td>...</td>\n",
       "    </tr>\n",
       "    <tr>\n",
       "      <th>194</th>\n",
       "      <td>011001101100011110010000</td>\n",
       "    </tr>\n",
       "    <tr>\n",
       "      <th>195</th>\n",
       "      <td>100001111011110101110010</td>\n",
       "    </tr>\n",
       "    <tr>\n",
       "      <th>196</th>\n",
       "      <td>010000001010101100001011</td>\n",
       "    </tr>\n",
       "    <tr>\n",
       "      <th>197</th>\n",
       "      <td>011011000011101101001101</td>\n",
       "    </tr>\n",
       "    <tr>\n",
       "      <th>198</th>\n",
       "      <td>000000000000000000100111</td>\n",
       "    </tr>\n",
       "  </tbody>\n",
       "</table>\n",
       "<p>199 rows × 1 columns</p>\n",
       "</div>"
      ],
      "text/plain": [
       "                          TC2\n",
       "0    011011001001011111101000\n",
       "1    100001111001101011000111\n",
       "2    000011001100111011000101\n",
       "3    000011100001101001111000\n",
       "4    000011111010100100000110\n",
       "..                        ...\n",
       "194  011001101100011110010000\n",
       "195  100001111011110101110010\n",
       "196  010000001010101100001011\n",
       "197  011011000011101101001101\n",
       "198  000000000000000000100111\n",
       "\n",
       "[199 rows x 1 columns]"
      ]
     },
     "execution_count": 18,
     "metadata": {},
     "output_type": "execute_result"
    }
   ],
   "source": [
    "TC2"
   ]
  },
  {
   "cell_type": "code",
   "execution_count": 19,
   "id": "bb921583-3be1-47d5-a97e-21c314345a31",
   "metadata": {},
   "outputs": [
    {
     "data": {
      "text/html": [
       "<div>\n",
       "<style scoped>\n",
       "    .dataframe tbody tr th:only-of-type {\n",
       "        vertical-align: middle;\n",
       "    }\n",
       "\n",
       "    .dataframe tbody tr th {\n",
       "        vertical-align: top;\n",
       "    }\n",
       "\n",
       "    .dataframe thead th {\n",
       "        text-align: right;\n",
       "    }\n",
       "</style>\n",
       "<table border=\"1\" class=\"dataframe\">\n",
       "  <thead>\n",
       "    <tr style=\"text-align: right;\">\n",
       "      <th></th>\n",
       "      <th>TC3</th>\n",
       "    </tr>\n",
       "  </thead>\n",
       "  <tbody>\n",
       "    <tr>\n",
       "      <th>0</th>\n",
       "      <td>111111111111111111011001</td>\n",
       "    </tr>\n",
       "    <tr>\n",
       "      <th>1</th>\n",
       "      <td>000000000000000000001000</td>\n",
       "    </tr>\n",
       "    <tr>\n",
       "      <th>2</th>\n",
       "      <td>000000000000000000100010</td>\n",
       "    </tr>\n",
       "    <tr>\n",
       "      <th>3</th>\n",
       "      <td>000000000000000000010001</td>\n",
       "    </tr>\n",
       "    <tr>\n",
       "      <th>4</th>\n",
       "      <td>000000000000000000110001</td>\n",
       "    </tr>\n",
       "    <tr>\n",
       "      <th>...</th>\n",
       "      <td>...</td>\n",
       "    </tr>\n",
       "    <tr>\n",
       "      <th>194</th>\n",
       "      <td>111111111111111111100111</td>\n",
       "    </tr>\n",
       "    <tr>\n",
       "      <th>195</th>\n",
       "      <td>111111111111111111011111</td>\n",
       "    </tr>\n",
       "    <tr>\n",
       "      <th>196</th>\n",
       "      <td>000000000000000000010000</td>\n",
       "    </tr>\n",
       "    <tr>\n",
       "      <th>197</th>\n",
       "      <td>000000000000000000010001</td>\n",
       "    </tr>\n",
       "    <tr>\n",
       "      <th>198</th>\n",
       "      <td>000000000000000000000100</td>\n",
       "    </tr>\n",
       "  </tbody>\n",
       "</table>\n",
       "<p>199 rows × 1 columns</p>\n",
       "</div>"
      ],
      "text/plain": [
       "                          TC3\n",
       "0    111111111111111111011001\n",
       "1    000000000000000000001000\n",
       "2    000000000000000000100010\n",
       "3    000000000000000000010001\n",
       "4    000000000000000000110001\n",
       "..                        ...\n",
       "194  111111111111111111100111\n",
       "195  111111111111111111011111\n",
       "196  000000000000000000010000\n",
       "197  000000000000000000010001\n",
       "198  000000000000000000000100\n",
       "\n",
       "[199 rows x 1 columns]"
      ]
     },
     "execution_count": 19,
     "metadata": {},
     "output_type": "execute_result"
    }
   ],
   "source": [
    "TC3['TC3'] = TC3['TC3'].astype(int)\n",
    "TC3['TC3'].dtype\n",
    "TC3['TC3']= TC3.apply(lambda x: binary(x[0]), axis=1)\n",
    "TC3"
   ]
  },
  {
   "cell_type": "code",
   "execution_count": 20,
   "id": "26bf0b05-cd59-4440-bd2a-0a9d8707e8d8",
   "metadata": {},
   "outputs": [],
   "source": [
    "TC4['TC4']= pd.to_numeric(TC4['TC4'],errors = 'coerce')\n",
    "TC4 = TC4.dropna()"
   ]
  },
  {
   "cell_type": "code",
   "execution_count": 21,
   "id": "1cdda3c3-98da-4842-a8b6-ce9e6e9b31d8",
   "metadata": {},
   "outputs": [
    {
     "data": {
      "text/plain": [
       "dtype('float64')"
      ]
     },
     "execution_count": 21,
     "metadata": {},
     "output_type": "execute_result"
    }
   ],
   "source": [
    "TC4['TC4'].dtype"
   ]
  },
  {
   "cell_type": "code",
   "execution_count": 22,
   "id": "fd33e6a3-12f7-4f98-ace9-6a774694f333",
   "metadata": {},
   "outputs": [],
   "source": [
    "TC4['TC4'] = TC4['TC4'].astype(int)"
   ]
  },
  {
   "cell_type": "code",
   "execution_count": 23,
   "id": "b98626e9-f884-496d-b259-0fbcef0e0d2a",
   "metadata": {},
   "outputs": [],
   "source": [
    "TC4['TC4']= TC4.apply(lambda x: binary(x[0]), axis=1)"
   ]
  },
  {
   "cell_type": "code",
   "execution_count": 24,
   "id": "58e227f5-db5b-4e97-ab51-97b82e00f436",
   "metadata": {},
   "outputs": [
    {
     "data": {
      "text/html": [
       "<div>\n",
       "<style scoped>\n",
       "    .dataframe tbody tr th:only-of-type {\n",
       "        vertical-align: middle;\n",
       "    }\n",
       "\n",
       "    .dataframe tbody tr th {\n",
       "        vertical-align: top;\n",
       "    }\n",
       "\n",
       "    .dataframe thead th {\n",
       "        text-align: right;\n",
       "    }\n",
       "</style>\n",
       "<table border=\"1\" class=\"dataframe\">\n",
       "  <thead>\n",
       "    <tr style=\"text-align: right;\">\n",
       "      <th></th>\n",
       "      <th>TC4</th>\n",
       "    </tr>\n",
       "  </thead>\n",
       "  <tbody>\n",
       "    <tr>\n",
       "      <th>0</th>\n",
       "      <td>111111111111111111011001</td>\n",
       "    </tr>\n",
       "    <tr>\n",
       "      <th>1</th>\n",
       "      <td>000000000000000000001000</td>\n",
       "    </tr>\n",
       "    <tr>\n",
       "      <th>2</th>\n",
       "      <td>000000000000000000100010</td>\n",
       "    </tr>\n",
       "    <tr>\n",
       "      <th>3</th>\n",
       "      <td>000000000000000000010001</td>\n",
       "    </tr>\n",
       "    <tr>\n",
       "      <th>4</th>\n",
       "      <td>000000000000000000110001</td>\n",
       "    </tr>\n",
       "    <tr>\n",
       "      <th>5</th>\n",
       "      <td>000000000000000000000101</td>\n",
       "    </tr>\n",
       "    <tr>\n",
       "      <th>7</th>\n",
       "      <td>000000000000000000000000</td>\n",
       "    </tr>\n",
       "    <tr>\n",
       "      <th>8</th>\n",
       "      <td>000000000000000000100001</td>\n",
       "    </tr>\n",
       "    <tr>\n",
       "      <th>9</th>\n",
       "      <td>000000000000000000001100</td>\n",
       "    </tr>\n",
       "    <tr>\n",
       "      <th>10</th>\n",
       "      <td>111111111111111111111010</td>\n",
       "    </tr>\n",
       "    <tr>\n",
       "      <th>11</th>\n",
       "      <td>000000000000000000011011</td>\n",
       "    </tr>\n",
       "    <tr>\n",
       "      <th>12</th>\n",
       "      <td>111111111111111111111100</td>\n",
       "    </tr>\n",
       "    <tr>\n",
       "      <th>13</th>\n",
       "      <td>111111111111111111011010</td>\n",
       "    </tr>\n",
       "    <tr>\n",
       "      <th>14</th>\n",
       "      <td>000000000000000000011010</td>\n",
       "    </tr>\n",
       "    <tr>\n",
       "      <th>15</th>\n",
       "      <td>000000000000000000110001</td>\n",
       "    </tr>\n",
       "    <tr>\n",
       "      <th>16</th>\n",
       "      <td>000000000000000000011101</td>\n",
       "    </tr>\n",
       "    <tr>\n",
       "      <th>17</th>\n",
       "      <td>000000000000000000101010</td>\n",
       "    </tr>\n",
       "    <tr>\n",
       "      <th>18</th>\n",
       "      <td>111111111111111111110000</td>\n",
       "    </tr>\n",
       "    <tr>\n",
       "      <th>20</th>\n",
       "      <td>000000000000000000100010</td>\n",
       "    </tr>\n",
       "    <tr>\n",
       "      <th>21</th>\n",
       "      <td>000000000000000000010100</td>\n",
       "    </tr>\n",
       "    <tr>\n",
       "      <th>22</th>\n",
       "      <td>000000000000000000000000</td>\n",
       "    </tr>\n",
       "    <tr>\n",
       "      <th>23</th>\n",
       "      <td>000000000000000000011001</td>\n",
       "    </tr>\n",
       "    <tr>\n",
       "      <th>24</th>\n",
       "      <td>000000000000000000101101</td>\n",
       "    </tr>\n",
       "    <tr>\n",
       "      <th>25</th>\n",
       "      <td>000000000000000000000011</td>\n",
       "    </tr>\n",
       "    <tr>\n",
       "      <th>26</th>\n",
       "      <td>111111111111111111010010</td>\n",
       "    </tr>\n",
       "    <tr>\n",
       "      <th>27</th>\n",
       "      <td>111111111111111111010010</td>\n",
       "    </tr>\n",
       "    <tr>\n",
       "      <th>28</th>\n",
       "      <td>000000000000000000011101</td>\n",
       "    </tr>\n",
       "    <tr>\n",
       "      <th>29</th>\n",
       "      <td>000000000000000000100001</td>\n",
       "    </tr>\n",
       "    <tr>\n",
       "      <th>30</th>\n",
       "      <td>000000000000000000011101</td>\n",
       "    </tr>\n",
       "    <tr>\n",
       "      <th>31</th>\n",
       "      <td>000000000000000000011010</td>\n",
       "    </tr>\n",
       "    <tr>\n",
       "      <th>32</th>\n",
       "      <td>111111111111111111111011</td>\n",
       "    </tr>\n",
       "    <tr>\n",
       "      <th>33</th>\n",
       "      <td>111111111111111111011100</td>\n",
       "    </tr>\n",
       "    <tr>\n",
       "      <th>34</th>\n",
       "      <td>000000000000000000001100</td>\n",
       "    </tr>\n",
       "    <tr>\n",
       "      <th>35</th>\n",
       "      <td>000000000000000000101101</td>\n",
       "    </tr>\n",
       "    <tr>\n",
       "      <th>36</th>\n",
       "      <td>111111111111111111001110</td>\n",
       "    </tr>\n",
       "    <tr>\n",
       "      <th>37</th>\n",
       "      <td>000000000000000000000000</td>\n",
       "    </tr>\n",
       "    <tr>\n",
       "      <th>38</th>\n",
       "      <td>111111111111111111111010</td>\n",
       "    </tr>\n",
       "  </tbody>\n",
       "</table>\n",
       "</div>"
      ],
      "text/plain": [
       "                         TC4\n",
       "0   111111111111111111011001\n",
       "1   000000000000000000001000\n",
       "2   000000000000000000100010\n",
       "3   000000000000000000010001\n",
       "4   000000000000000000110001\n",
       "5   000000000000000000000101\n",
       "7   000000000000000000000000\n",
       "8   000000000000000000100001\n",
       "9   000000000000000000001100\n",
       "10  111111111111111111111010\n",
       "11  000000000000000000011011\n",
       "12  111111111111111111111100\n",
       "13  111111111111111111011010\n",
       "14  000000000000000000011010\n",
       "15  000000000000000000110001\n",
       "16  000000000000000000011101\n",
       "17  000000000000000000101010\n",
       "18  111111111111111111110000\n",
       "20  000000000000000000100010\n",
       "21  000000000000000000010100\n",
       "22  000000000000000000000000\n",
       "23  000000000000000000011001\n",
       "24  000000000000000000101101\n",
       "25  000000000000000000000011\n",
       "26  111111111111111111010010\n",
       "27  111111111111111111010010\n",
       "28  000000000000000000011101\n",
       "29  000000000000000000100001\n",
       "30  000000000000000000011101\n",
       "31  000000000000000000011010\n",
       "32  111111111111111111111011\n",
       "33  111111111111111111011100\n",
       "34  000000000000000000001100\n",
       "35  000000000000000000101101\n",
       "36  111111111111111111001110\n",
       "37  000000000000000000000000\n",
       "38  111111111111111111111010"
      ]
     },
     "execution_count": 24,
     "metadata": {},
     "output_type": "execute_result"
    }
   ],
   "source": [
    "TC4"
   ]
  },
  {
   "cell_type": "code",
   "execution_count": 25,
   "id": "e1c64817-f053-4845-9992-e0131961a240",
   "metadata": {},
   "outputs": [],
   "source": [
    "BinaryNum = pd.concat([TX, TC2, TC3, TC4], axis=1)"
   ]
  },
  {
   "cell_type": "code",
   "execution_count": 26,
   "id": "611a692c-45be-4929-ab0a-e8f8fb2cdc7b",
   "metadata": {},
   "outputs": [
    {
     "name": "stdout",
     "output_type": "stream",
     "text": [
      "                          TC1                       TC2  \\\n",
      "0    011010101000001100010000  011011001001011111101000   \n",
      "1    000101000110001101011111  100001111001101011000111   \n",
      "2    011001101111111111101001  000011001100111011000101   \n",
      "3    000110110000100110100001  000011100001101001111000   \n",
      "4    000001011000000111111000  000011111010100100000110   \n",
      "..                        ...                       ...   \n",
      "194  010001011000001111000101  011001101100011110010000   \n",
      "195  001101011101000001100001  100001111011110101110010   \n",
      "196  001100000111100101101111  010000001010101100001011   \n",
      "197  000011010001100101001000  011011000011101101001101   \n",
      "198  001000100101100001100110  000000000000000000100111   \n",
      "\n",
      "                          TC3                       TC4  \n",
      "0    111111111111111111011001  111111111111111111011001  \n",
      "1    000000000000000000001000  000000000000000000001000  \n",
      "2    000000000000000000100010  000000000000000000100010  \n",
      "3    000000000000000000010001  000000000000000000010001  \n",
      "4    000000000000000000110001  000000000000000000110001  \n",
      "..                        ...                       ...  \n",
      "194  111111111111111111100111                       NaN  \n",
      "195  111111111111111111011111                       NaN  \n",
      "196  000000000000000000010000                       NaN  \n",
      "197  000000000000000000010001                       NaN  \n",
      "198  000000000000000000000100                       NaN  \n",
      "\n",
      "[199 rows x 4 columns]\n"
     ]
    }
   ],
   "source": [
    "print(BinaryNum)"
   ]
  },
  {
   "cell_type": "code",
   "execution_count": 27,
   "id": "3f1a9202-630c-4eb7-a2e0-b50acb3f4e30",
   "metadata": {},
   "outputs": [
    {
     "data": {
      "text/plain": [
       "0      6980368\n",
       "1      1336159\n",
       "2      6750185\n",
       "3      1771937\n",
       "4       360952\n",
       "        ...   \n",
       "194    4555717\n",
       "195    3526753\n",
       "196    3176815\n",
       "197     858440\n",
       "198    2250854\n",
       "Name: TC1, Length: 199, dtype: object"
      ]
     },
     "execution_count": 27,
     "metadata": {},
     "output_type": "execute_result"
    }
   ],
   "source": [
    "TC1Hex"
   ]
  },
  {
   "cell_type": "code",
   "execution_count": 28,
   "id": "4518b8b0-0546-42d3-94d6-b776f4d2bc8d",
   "metadata": {},
   "outputs": [],
   "source": [
    "TC1Hex = TC1Hex.astype(int)\n",
    "TC1Hex = TC1Hex.apply( hex )"
   ]
  },
  {
   "cell_type": "code",
   "execution_count": 29,
   "id": "62d4166d-64f7-4c91-aa36-c454db0f2a9c",
   "metadata": {},
   "outputs": [
    {
     "data": {
      "text/plain": [
       "0      0x6a8310\n",
       "1      0x14635f\n",
       "2      0x66ffe9\n",
       "3      0x1b09a1\n",
       "4       0x581f8\n",
       "         ...   \n",
       "194    0x4583c5\n",
       "195    0x35d061\n",
       "196    0x30796f\n",
       "197     0xd1948\n",
       "198    0x225866\n",
       "Name: TC1, Length: 199, dtype: object"
      ]
     },
     "execution_count": 29,
     "metadata": {},
     "output_type": "execute_result"
    }
   ],
   "source": [
    "TC1Hex"
   ]
  },
  {
   "cell_type": "code",
   "execution_count": 30,
   "id": "2bcf079d-2197-4f53-9e47-b836284052bc",
   "metadata": {},
   "outputs": [],
   "source": [
    "TC2Hex = TC2Hex.astype(int)\n",
    "TC2Hex = TC2Hex.apply( hex )"
   ]
  },
  {
   "cell_type": "code",
   "execution_count": 31,
   "id": "746ff0b8-41da-41b0-9671-9bd0bac61cb2",
   "metadata": {},
   "outputs": [
    {
     "data": {
      "text/plain": [
       "0      0x6c97e8\n",
       "1      0x879ac7\n",
       "2       0xccec5\n",
       "3       0xe1a78\n",
       "4       0xfa906\n",
       "         ...   \n",
       "194    0x66c790\n",
       "195    0x87bd72\n",
       "196    0x40ab0b\n",
       "197    0x6c3b4d\n",
       "198        0x27\n",
       "Name: TC2, Length: 199, dtype: object"
      ]
     },
     "execution_count": 31,
     "metadata": {},
     "output_type": "execute_result"
    }
   ],
   "source": [
    "TC2Hex"
   ]
  },
  {
   "cell_type": "code",
   "execution_count": 32,
   "id": "58acd6db-5275-4f85-92ea-5d09b14cb2f2",
   "metadata": {},
   "outputs": [],
   "source": [
    "TC3Hex = TC3Hex.astype(int)\n",
    "TC3Hex = TC3Hex.apply( hex )"
   ]
  },
  {
   "cell_type": "code",
   "execution_count": 33,
   "id": "ac7d2a57-c959-46bd-92b4-43197e4d13ae",
   "metadata": {},
   "outputs": [
    {
     "data": {
      "text/plain": [
       "0      -0x27\n",
       "1        0x8\n",
       "2       0x22\n",
       "3       0x11\n",
       "4       0x31\n",
       "       ...  \n",
       "194    -0x19\n",
       "195    -0x21\n",
       "196     0x10\n",
       "197     0x11\n",
       "198      0x4\n",
       "Name: TC3, Length: 199, dtype: object"
      ]
     },
     "execution_count": 33,
     "metadata": {},
     "output_type": "execute_result"
    }
   ],
   "source": [
    "TC3Hex"
   ]
  },
  {
   "cell_type": "code",
   "execution_count": 34,
   "id": "1ae7b8b5-1d56-41c4-8bcf-6f256416a813",
   "metadata": {},
   "outputs": [],
   "source": [
    "TC4Hex = pd.to_numeric(TC4Hex,errors = 'coerce')\n",
    "TC4Hex = TC4Hex.dropna()"
   ]
  },
  {
   "cell_type": "code",
   "execution_count": 35,
   "id": "7f756a3e-81ab-4188-a4ef-6b0f09494293",
   "metadata": {},
   "outputs": [],
   "source": [
    "TC4Hex = TC4Hex.astype(int)\n",
    "TC4Hex = TC4Hex.apply( hex )"
   ]
  },
  {
   "cell_type": "code",
   "execution_count": 36,
   "id": "fcb3df9a-a983-4787-b796-01ec8144a376",
   "metadata": {},
   "outputs": [
    {
     "data": {
      "text/plain": [
       "0     -0x27\n",
       "1       0x8\n",
       "2      0x22\n",
       "3      0x11\n",
       "4      0x31\n",
       "5       0x5\n",
       "7       0x0\n",
       "8      0x21\n",
       "9       0xc\n",
       "10     -0x6\n",
       "11     0x1b\n",
       "12     -0x4\n",
       "13    -0x26\n",
       "14     0x1a\n",
       "15     0x31\n",
       "16     0x1d\n",
       "17     0x2a\n",
       "18    -0x10\n",
       "20     0x22\n",
       "21     0x14\n",
       "22      0x0\n",
       "23     0x19\n",
       "24     0x2d\n",
       "25      0x3\n",
       "26    -0x2e\n",
       "27    -0x2e\n",
       "28     0x1d\n",
       "29     0x21\n",
       "30     0x1d\n",
       "31     0x1a\n",
       "32     -0x5\n",
       "33    -0x24\n",
       "34      0xc\n",
       "35     0x2d\n",
       "36    -0x32\n",
       "37      0x0\n",
       "38     -0x6\n",
       "Name: TC4, dtype: object"
      ]
     },
     "execution_count": 36,
     "metadata": {},
     "output_type": "execute_result"
    }
   ],
   "source": [
    "TC4Hex"
   ]
  },
  {
   "cell_type": "code",
   "execution_count": 37,
   "id": "5716e4c9-aac1-421e-8eee-2f549a3fb537",
   "metadata": {},
   "outputs": [],
   "source": [
    "HexadecimalNum = pd.concat([TC1Hex, TC2Hex, TC3Hex, TC4Hex], axis=1)"
   ]
  },
  {
   "cell_type": "code",
   "execution_count": 38,
   "id": "3b694212-c226-400a-8a2c-36ab3a43f070",
   "metadata": {},
   "outputs": [
    {
     "name": "stdout",
     "output_type": "stream",
     "text": [
      "          TC1       TC2    TC3    TC4\n",
      "0    0x6a8310  0x6c97e8  -0x27  -0x27\n",
      "1    0x14635f  0x879ac7    0x8    0x8\n",
      "2    0x66ffe9   0xccec5   0x22   0x22\n",
      "3    0x1b09a1   0xe1a78   0x11   0x11\n",
      "4     0x581f8   0xfa906   0x31   0x31\n",
      "..        ...       ...    ...    ...\n",
      "194  0x4583c5  0x66c790  -0x19    NaN\n",
      "195  0x35d061  0x87bd72  -0x21    NaN\n",
      "196  0x30796f  0x40ab0b   0x10    NaN\n",
      "197   0xd1948  0x6c3b4d   0x11    NaN\n",
      "198  0x225866      0x27    0x4    NaN\n",
      "\n",
      "[199 rows x 4 columns]\n"
     ]
    }
   ],
   "source": [
    "print(HexadecimalNum)"
   ]
  },
  {
   "cell_type": "code",
   "execution_count": 39,
   "id": "5f7e3de1-1324-4a4c-9612-4955486345d1",
   "metadata": {},
   "outputs": [],
   "source": [
    "Results = pd.concat([BinaryNum, HexadecimalNum], axis=1)"
   ]
  },
  {
   "cell_type": "code",
   "execution_count": 40,
   "id": "bdcb654c-2e2c-4299-842a-fe04cd9ffa50",
   "metadata": {},
   "outputs": [],
   "source": [
    "Results.columns = ['BinaryTC1', 'BinaryTC2', 'BinaryTC3', 'BinaryTC4', 'HexTC1', 'HexTC2','HexTC3','HexTC4']"
   ]
  },
  {
   "cell_type": "code",
   "execution_count": 41,
   "id": "2e3a7040-b625-43a1-b39f-d8735a3bf340",
   "metadata": {},
   "outputs": [
    {
     "data": {
      "text/html": [
       "<div>\n",
       "<style scoped>\n",
       "    .dataframe tbody tr th:only-of-type {\n",
       "        vertical-align: middle;\n",
       "    }\n",
       "\n",
       "    .dataframe tbody tr th {\n",
       "        vertical-align: top;\n",
       "    }\n",
       "\n",
       "    .dataframe thead th {\n",
       "        text-align: right;\n",
       "    }\n",
       "</style>\n",
       "<table border=\"1\" class=\"dataframe\">\n",
       "  <thead>\n",
       "    <tr style=\"text-align: right;\">\n",
       "      <th></th>\n",
       "      <th>BinaryTC1</th>\n",
       "      <th>BinaryTC2</th>\n",
       "      <th>BinaryTC3</th>\n",
       "      <th>BinaryTC4</th>\n",
       "      <th>HexTC1</th>\n",
       "      <th>HexTC2</th>\n",
       "      <th>HexTC3</th>\n",
       "      <th>HexTC4</th>\n",
       "    </tr>\n",
       "  </thead>\n",
       "  <tbody>\n",
       "    <tr>\n",
       "      <th>0</th>\n",
       "      <td>011010101000001100010000</td>\n",
       "      <td>011011001001011111101000</td>\n",
       "      <td>111111111111111111011001</td>\n",
       "      <td>111111111111111111011001</td>\n",
       "      <td>0x6a8310</td>\n",
       "      <td>0x6c97e8</td>\n",
       "      <td>-0x27</td>\n",
       "      <td>-0x27</td>\n",
       "    </tr>\n",
       "    <tr>\n",
       "      <th>1</th>\n",
       "      <td>000101000110001101011111</td>\n",
       "      <td>100001111001101011000111</td>\n",
       "      <td>000000000000000000001000</td>\n",
       "      <td>000000000000000000001000</td>\n",
       "      <td>0x14635f</td>\n",
       "      <td>0x879ac7</td>\n",
       "      <td>0x8</td>\n",
       "      <td>0x8</td>\n",
       "    </tr>\n",
       "    <tr>\n",
       "      <th>2</th>\n",
       "      <td>011001101111111111101001</td>\n",
       "      <td>000011001100111011000101</td>\n",
       "      <td>000000000000000000100010</td>\n",
       "      <td>000000000000000000100010</td>\n",
       "      <td>0x66ffe9</td>\n",
       "      <td>0xccec5</td>\n",
       "      <td>0x22</td>\n",
       "      <td>0x22</td>\n",
       "    </tr>\n",
       "    <tr>\n",
       "      <th>3</th>\n",
       "      <td>000110110000100110100001</td>\n",
       "      <td>000011100001101001111000</td>\n",
       "      <td>000000000000000000010001</td>\n",
       "      <td>000000000000000000010001</td>\n",
       "      <td>0x1b09a1</td>\n",
       "      <td>0xe1a78</td>\n",
       "      <td>0x11</td>\n",
       "      <td>0x11</td>\n",
       "    </tr>\n",
       "    <tr>\n",
       "      <th>4</th>\n",
       "      <td>000001011000000111111000</td>\n",
       "      <td>000011111010100100000110</td>\n",
       "      <td>000000000000000000110001</td>\n",
       "      <td>000000000000000000110001</td>\n",
       "      <td>0x581f8</td>\n",
       "      <td>0xfa906</td>\n",
       "      <td>0x31</td>\n",
       "      <td>0x31</td>\n",
       "    </tr>\n",
       "    <tr>\n",
       "      <th>...</th>\n",
       "      <td>...</td>\n",
       "      <td>...</td>\n",
       "      <td>...</td>\n",
       "      <td>...</td>\n",
       "      <td>...</td>\n",
       "      <td>...</td>\n",
       "      <td>...</td>\n",
       "      <td>...</td>\n",
       "    </tr>\n",
       "    <tr>\n",
       "      <th>194</th>\n",
       "      <td>010001011000001111000101</td>\n",
       "      <td>011001101100011110010000</td>\n",
       "      <td>111111111111111111100111</td>\n",
       "      <td>NaN</td>\n",
       "      <td>0x4583c5</td>\n",
       "      <td>0x66c790</td>\n",
       "      <td>-0x19</td>\n",
       "      <td>NaN</td>\n",
       "    </tr>\n",
       "    <tr>\n",
       "      <th>195</th>\n",
       "      <td>001101011101000001100001</td>\n",
       "      <td>100001111011110101110010</td>\n",
       "      <td>111111111111111111011111</td>\n",
       "      <td>NaN</td>\n",
       "      <td>0x35d061</td>\n",
       "      <td>0x87bd72</td>\n",
       "      <td>-0x21</td>\n",
       "      <td>NaN</td>\n",
       "    </tr>\n",
       "    <tr>\n",
       "      <th>196</th>\n",
       "      <td>001100000111100101101111</td>\n",
       "      <td>010000001010101100001011</td>\n",
       "      <td>000000000000000000010000</td>\n",
       "      <td>NaN</td>\n",
       "      <td>0x30796f</td>\n",
       "      <td>0x40ab0b</td>\n",
       "      <td>0x10</td>\n",
       "      <td>NaN</td>\n",
       "    </tr>\n",
       "    <tr>\n",
       "      <th>197</th>\n",
       "      <td>000011010001100101001000</td>\n",
       "      <td>011011000011101101001101</td>\n",
       "      <td>000000000000000000010001</td>\n",
       "      <td>NaN</td>\n",
       "      <td>0xd1948</td>\n",
       "      <td>0x6c3b4d</td>\n",
       "      <td>0x11</td>\n",
       "      <td>NaN</td>\n",
       "    </tr>\n",
       "    <tr>\n",
       "      <th>198</th>\n",
       "      <td>001000100101100001100110</td>\n",
       "      <td>000000000000000000100111</td>\n",
       "      <td>000000000000000000000100</td>\n",
       "      <td>NaN</td>\n",
       "      <td>0x225866</td>\n",
       "      <td>0x27</td>\n",
       "      <td>0x4</td>\n",
       "      <td>NaN</td>\n",
       "    </tr>\n",
       "  </tbody>\n",
       "</table>\n",
       "<p>199 rows × 8 columns</p>\n",
       "</div>"
      ],
      "text/plain": [
       "                    BinaryTC1                 BinaryTC2  \\\n",
       "0    011010101000001100010000  011011001001011111101000   \n",
       "1    000101000110001101011111  100001111001101011000111   \n",
       "2    011001101111111111101001  000011001100111011000101   \n",
       "3    000110110000100110100001  000011100001101001111000   \n",
       "4    000001011000000111111000  000011111010100100000110   \n",
       "..                        ...                       ...   \n",
       "194  010001011000001111000101  011001101100011110010000   \n",
       "195  001101011101000001100001  100001111011110101110010   \n",
       "196  001100000111100101101111  010000001010101100001011   \n",
       "197  000011010001100101001000  011011000011101101001101   \n",
       "198  001000100101100001100110  000000000000000000100111   \n",
       "\n",
       "                    BinaryTC3                 BinaryTC4    HexTC1    HexTC2  \\\n",
       "0    111111111111111111011001  111111111111111111011001  0x6a8310  0x6c97e8   \n",
       "1    000000000000000000001000  000000000000000000001000  0x14635f  0x879ac7   \n",
       "2    000000000000000000100010  000000000000000000100010  0x66ffe9   0xccec5   \n",
       "3    000000000000000000010001  000000000000000000010001  0x1b09a1   0xe1a78   \n",
       "4    000000000000000000110001  000000000000000000110001   0x581f8   0xfa906   \n",
       "..                        ...                       ...       ...       ...   \n",
       "194  111111111111111111100111                       NaN  0x4583c5  0x66c790   \n",
       "195  111111111111111111011111                       NaN  0x35d061  0x87bd72   \n",
       "196  000000000000000000010000                       NaN  0x30796f  0x40ab0b   \n",
       "197  000000000000000000010001                       NaN   0xd1948  0x6c3b4d   \n",
       "198  000000000000000000000100                       NaN  0x225866      0x27   \n",
       "\n",
       "    HexTC3 HexTC4  \n",
       "0    -0x27  -0x27  \n",
       "1      0x8    0x8  \n",
       "2     0x22   0x22  \n",
       "3     0x11   0x11  \n",
       "4     0x31   0x31  \n",
       "..     ...    ...  \n",
       "194  -0x19    NaN  \n",
       "195  -0x21    NaN  \n",
       "196   0x10    NaN  \n",
       "197   0x11    NaN  \n",
       "198    0x4    NaN  \n",
       "\n",
       "[199 rows x 8 columns]"
      ]
     },
     "execution_count": 41,
     "metadata": {},
     "output_type": "execute_result"
    }
   ],
   "source": [
    "Results"
   ]
  },
  {
   "cell_type": "code",
   "execution_count": 42,
   "id": "6a3b6444-eb92-4770-b1bf-27e0c1594a02",
   "metadata": {},
   "outputs": [],
   "source": [
    "Results.to_csv('fileWithData.txt', sep='\\t', index=False)"
   ]
  },
  {
   "cell_type": "code",
   "execution_count": null,
   "id": "0159b924-8131-4132-b6dd-659d6483106f",
   "metadata": {},
   "outputs": [],
   "source": []
  }
 ],
 "metadata": {
  "kernelspec": {
   "display_name": "Python 3 (ipykernel)",
   "language": "python",
   "name": "python3"
  },
  "language_info": {
   "codemirror_mode": {
    "name": "ipython",
    "version": 3
   },
   "file_extension": ".py",
   "mimetype": "text/x-python",
   "name": "python",
   "nbconvert_exporter": "python",
   "pygments_lexer": "ipython3",
   "version": "3.10.9"
  }
 },
 "nbformat": 4,
 "nbformat_minor": 5
}
